{
 "cells": [
  {
   "cell_type": "code",
   "execution_count": 7,
   "metadata": {},
   "outputs": [],
   "source": [
    "def GetPermutations(array):\n",
    "    totalPermutations = []\n",
    "    permutationsHelper(array,0,totalPermutations)\n",
    "    return totalPermutations\n",
    "\n",
    "def permutationsHelper(array,index,permutations):\n",
    "    if index == len(array)-1:\n",
    "        permutations.append(array[:])\n",
    "    else:\n",
    "        for laterIndex in range(index,len(array)):\n",
    "            array[laterIndex] , array[index] = array[index] , array[laterIndex]\n",
    "            permutationsHelper(array,index+1,permutations)\n",
    "            array[laterIndex] , array[index] = array[index] , array[laterIndex]"
   ]
  },
  {
   "cell_type": "code",
   "execution_count": 8,
   "metadata": {},
   "outputs": [
    {
     "data": {
      "text/plain": [
       "[[1, 2, 3], [1, 3, 2], [2, 1, 3], [2, 3, 1], [3, 2, 1], [3, 1, 2]]"
      ]
     },
     "execution_count": 8,
     "metadata": {},
     "output_type": "execute_result"
    }
   ],
   "source": [
    "GetPermutations([1,2,3])"
   ]
  },
  {
   "cell_type": "code",
   "execution_count": null,
   "metadata": {},
   "outputs": [],
   "source": []
  }
 ],
 "metadata": {
  "kernelspec": {
   "display_name": "Python 3",
   "language": "python",
   "name": "python3"
  },
  "language_info": {
   "codemirror_mode": {
    "name": "ipython",
    "version": 3
   },
   "file_extension": ".py",
   "mimetype": "text/x-python",
   "name": "python",
   "nbconvert_exporter": "python",
   "pygments_lexer": "ipython3",
   "version": "3.8.3"
  }
 },
 "nbformat": 4,
 "nbformat_minor": 4
}
