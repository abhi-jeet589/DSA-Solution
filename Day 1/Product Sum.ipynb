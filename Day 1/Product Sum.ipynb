{
 "cells": [
  {
   "cell_type": "code",
   "execution_count": 67,
   "metadata": {},
   "outputs": [],
   "source": [
    "def ProductSum(specialArray,depth):\n",
    "    initDepth = depth\n",
    "    productSum = 0\n",
    "    for number in specialArray:\n",
    "        if type(number) == list:\n",
    "            productSum = productSum + ((initDepth+1)*ProductSum(number,initDepth+1))\n",
    "        else:\n",
    "            productSum = productSum + number\n",
    "    return productSum"
   ]
  },
  {
   "cell_type": "code",
   "execution_count": 68,
   "metadata": {},
   "outputs": [
    {
     "data": {
      "text/plain": [
       "12"
      ]
     },
     "execution_count": 68,
     "metadata": {},
     "output_type": "execute_result"
    }
   ],
   "source": [
    "ProductSum([5,2,[7,-1],3,[6,[-13,8],4]],1)"
   ]
  }
 ],
 "metadata": {
  "kernelspec": {
   "display_name": "Python 3",
   "language": "python",
   "name": "python3"
  },
  "language_info": {
   "codemirror_mode": {
    "name": "ipython",
    "version": 3
   },
   "file_extension": ".py",
   "mimetype": "text/x-python",
   "name": "python",
   "nbconvert_exporter": "python",
   "pygments_lexer": "ipython3",
   "version": "3.8.3"
  }
 },
 "nbformat": 4,
 "nbformat_minor": 4
}
