{
 "cells": [
  {
   "cell_type": "code",
   "execution_count": 53,
   "metadata": {},
   "outputs": [],
   "source": [
    "def getNthFib(count):\n",
    "    F0 = 0\n",
    "    F1 = 1\n",
    "    if count <= 0:\n",
    "        return \"Enter number greater than or equal to 1\".strip('\"\"')\n",
    "    if count >= 1:\n",
    "        print(F0,F1 , end = \" \")\n",
    "        for i in range(count-2):\n",
    "            Fn = F0 + F1\n",
    "            print(Fn,end = \" \")\n",
    "            F0 = F1\n",
    "            F1 = Fn"
   ]
  },
  {
   "cell_type": "code",
   "execution_count": 58,
   "metadata": {},
   "outputs": [
    {
     "name": "stdout",
     "output_type": "stream",
     "text": [
      "0 1 1 2 3 5 "
     ]
    }
   ],
   "source": [
    "getNthFib(6)"
   ]
  }
 ],
 "metadata": {
  "kernelspec": {
   "display_name": "Python 3",
   "language": "python",
   "name": "python3"
  },
  "language_info": {
   "codemirror_mode": {
    "name": "ipython",
    "version": 3
   },
   "file_extension": ".py",
   "mimetype": "text/x-python",
   "name": "python",
   "nbconvert_exporter": "python",
   "pygments_lexer": "ipython3",
   "version": "3.8.3"
  }
 },
 "nbformat": 4,
 "nbformat_minor": 4
}
