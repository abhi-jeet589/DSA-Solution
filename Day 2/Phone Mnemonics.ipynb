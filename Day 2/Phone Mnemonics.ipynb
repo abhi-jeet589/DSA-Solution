{
 "cells": [
  {
   "cell_type": "code",
   "execution_count": 1,
   "metadata": {},
   "outputs": [],
   "source": [
    "keypad = {\n",
    "    '2' : ['a','b','c'],\n",
    "    '3' : ['d','e','f'],\n",
    "    '4' : ['g','h','i'],\n",
    "    '5' : ['j','k','l'],\n",
    "    '6' : ['m','n','o'],\n",
    "    '7' : ['p','q','r','s'],\n",
    "    '8' : ['t','u','v'],\n",
    "    '9' : ['w','x','y','z']\n",
    "}"
   ]
  },
  {
   "cell_type": "code",
   "execution_count": 6,
   "metadata": {},
   "outputs": [],
   "source": [
    "def GetMnemonics(phoneNumber: str):\n",
    "    answer = []\n",
    "    for element in phoneNumber:\n",
    "        if int(element) != 0 and int(element) != 1:\n",
    "            for mnemonic in keypad[element]:\n",
    "                answer.append(phoneNumber.replace(element,mnemonic))\n",
    "    return answer"
   ]
  },
  {
   "cell_type": "code",
   "execution_count": 8,
   "metadata": {},
   "outputs": [
    {
     "data": {
      "text/plain": [
       "['1w05', '1x05', '1y05', '1z05', '190j', '190k', '190l']"
      ]
     },
     "execution_count": 8,
     "metadata": {},
     "output_type": "execute_result"
    }
   ],
   "source": [
    "GetMnemonics(\"1905\")"
   ]
  },
  {
   "cell_type": "code",
   "execution_count": null,
   "metadata": {},
   "outputs": [],
   "source": []
  }
 ],
 "metadata": {
  "kernelspec": {
   "display_name": "Python 3",
   "language": "python",
   "name": "python3"
  },
  "language_info": {
   "codemirror_mode": {
    "name": "ipython",
    "version": 3
   },
   "file_extension": ".py",
   "mimetype": "text/x-python",
   "name": "python",
   "nbconvert_exporter": "python",
   "pygments_lexer": "ipython3",
   "version": "3.8.3"
  }
 },
 "nbformat": 4,
 "nbformat_minor": 4
}
