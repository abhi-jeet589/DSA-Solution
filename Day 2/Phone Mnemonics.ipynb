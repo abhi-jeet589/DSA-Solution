{
 "cells": [
  {
   "cell_type": "code",
   "execution_count": 1,
   "metadata": {},
   "outputs": [],
   "source": [
    "keypad = {\n",
    "    '2' : ['a','b','c'],\n",
    "    '3' : ['d','e','f'],\n",
    "    '4' : ['g','h','i'],\n",
    "    '5' : ['j','k','l'],\n",
    "    '6' : ['m','n','o'],\n",
    "    '7' : ['p','q','r','s'],\n",
    "    '8' : ['t','u','v'],\n",
    "    '9' : ['w','x','y','z']\n",
    "}"
   ]
  },
  {
   "cell_type": "code",
   "execution_count": 2,
   "metadata": {},
   "outputs": [],
   "source": [
    "def GetPhoneMnemonics(number,index,emptyList):\n",
    "    combinations = []\n",
    "    if index == len(emptyList):\n",
    "        return combinations.append(\"\".join(emptyList))\n",
    "    getChars = keypad.get(number[index],number[index])\n",
    "    for i in getChars:\n",
    "        emptyList[index] = i\n",
    "        GetPhoneMnemonics(number,index+1,emptyList)"
   ]
  },
  {
   "cell_type": "code",
   "execution_count": 3,
   "metadata": {},
   "outputs": [],
   "source": [
    "phoneNumber = \"1905\"\n",
    "emptyListToSend = [0]*len(phoneNumber)"
   ]
  },
  {
   "cell_type": "code",
   "execution_count": 4,
   "metadata": {},
   "outputs": [],
   "source": [
    "GetPhoneMnemonics(phoneNumber,0,emptyListToSend)"
   ]
  },
  {
   "cell_type": "code",
   "execution_count": 5,
   "metadata": {},
   "outputs": [
    {
     "data": {
      "text/plain": [
       "4"
      ]
     },
     "execution_count": 5,
     "metadata": {},
     "output_type": "execute_result"
    }
   ],
   "source": [
    "len(emptyListToSend)"
   ]
  },
  {
   "cell_type": "code",
   "execution_count": 6,
   "metadata": {},
   "outputs": [
    {
     "data": {
      "text/plain": [
       "['1', 'z', '0', 'l']"
      ]
     },
     "execution_count": 6,
     "metadata": {},
     "output_type": "execute_result"
    }
   ],
   "source": [
    "emptyListToSend"
   ]
  },
  {
   "cell_type": "code",
   "execution_count": null,
   "metadata": {},
   "outputs": [],
   "source": []
  }
 ],
 "metadata": {
  "kernelspec": {
   "display_name": "Python 3",
   "language": "python",
   "name": "python3"
  },
  "language_info": {
   "codemirror_mode": {
    "name": "ipython",
    "version": 3
   },
   "file_extension": ".py",
   "mimetype": "text/x-python",
   "name": "python",
   "nbconvert_exporter": "python",
   "pygments_lexer": "ipython3",
   "version": "3.8.3"
  }
 },
 "nbformat": 4,
 "nbformat_minor": 4
}
